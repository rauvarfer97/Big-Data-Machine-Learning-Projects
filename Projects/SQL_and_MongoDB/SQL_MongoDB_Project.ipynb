{
 "cells": [
  {
   "cell_type": "markdown",
   "metadata": {},
   "source": [
    "### **Exercise 1. Entity-Relationship Diagram:** \n",
    "\n",
    "Design an entity-relationship (E-R) diagram for a banking system that includes customers, bank accounts, credit/debit cards, and transactions. The system should capture the following aspects:\n",
    "- **Entities:** Clients, Bank Accounts, and Cards.\n",
    "  - Clients are identified by their DNI.\n",
    "  - Bank Accounts have a unique account number.\n",
    "  - Cards are associated with both Clients and Bank Accounts and have a unique card number."
   ]
  },
  {
   "cell_type": "markdown",
   "metadata": {},
   "source": [
    "**Answer:**"
   ]
  },
  {
   "cell_type": "markdown",
   "metadata": {},
   "source": [
    "The most logical entity-relationship diagram for the database described in the exercise statement is the one shown above, according to my criteria. \n",
    "\n",
    "- **Strong entities**: Client, Bank Account, and Card.\n",
    "  - Primary keys: DNI (Client), Account Number (Bank Account), and Card Number (Card).\n",
    "  - The Card entity is introduced as an aggregation of the Client-Bank Account group, as it is associated with both.\n",
    "- **Transfers**: Included as a recursive relationship between Bank Accounts since it relates to itself.\n",
    "- **Card Transactions**: Introduced as a weak entity dependent on Card, as it cannot exist without it.\n",
    "\n",
    "<p style=\"text-align: center\">\n",
    "\n",
    "<img src=\"ERDiagram.png\" width=\"500\" style=\"margin:auto\"/>\n",
    "\n",
    "</p>"
   ]
  },
  {
   "cell_type": "markdown",
   "metadata": {},
   "source": [
    "### **Exercise 2. SQL Queries** \n",
    "\n",
    "In this exercise, we will perform various SQL queries to retrieve specific information from a video store database. \n",
    "The queries will focus on retrieving movie details, actors who have participated in multiple movies, \n",
    "and clients who have rented movies featuring such actors."
   ]
  },
  {
   "cell_type": "markdown",
   "metadata": {},
   "source": [
    "**Query 1:** Retrieve all existing movies in the video store, displaying only movie information (id, name, and year)."
   ]
  },
  {
   "cell_type": "code",
   "execution_count": null,
   "metadata": {
    "vscode": {
     "languageId": "sql"
    }
   },
   "outputs": [],
   "source": [
    "SELECT * FROM película p"
   ]
  },
  {
   "cell_type": "markdown",
   "metadata": {},
   "source": [
    "**Query 2:** Retrieve all actors who have participated in more than one movie, displaying only actor information (id, name, birth date, and nationality)."
   ]
  },
  {
   "cell_type": "code",
   "execution_count": null,
   "metadata": {
    "vscode": {
     "languageId": "sql"
    }
   },
   "outputs": [],
   "source": [
    "SELECT a.* \n",
    "FROM actor a, reparto r \n",
    "WHERE r.IdActor = a.Id \n",
    "HAVING count(r.IdPelicula) > 1;"
   ]
  },
  {
   "cell_type": "markdown",
   "metadata": {},
   "source": [
    "**Query 3:** Retrieve all clients who have rented a movie featuring an actor who has participated in more than one film, displaying only client information (DNI, name, address, and phone)."
   ]
  },
  {
   "cell_type": "code",
   "execution_count": null,
   "metadata": {
    "vscode": {
     "languageId": "sql"
    }
   },
   "outputs": [],
   "source": [
    "SELECT c.* \n",
    "FROM cliente c, alquiler a, reparto r \n",
    "WHERE c.dni = a.dniCliente \n",
    "AND a.idPelicula = r.idPelicula \n",
    "AND r.idActor IN (\n",
    "    SELECT a.Id \n",
    "    FROM actor a, reparto r \n",
    "    WHERE r.IdActor = a.Id \n",
    "    HAVING count(r.IdPelicula) > 1\n",
    ");"
   ]
  },
  {
   "cell_type": "markdown",
   "metadata": {},
   "source": [
    "### **Exercise 3. PyMySQL** "
   ]
  },
  {
   "cell_type": "markdown",
   "metadata": {},
   "source": [
    "In this exercise, you will establish a connection to a MySQL server using PyMySQL and MySQL Connector, create a database called exercise3, define a table to store personal data, and populate it with information from a CSV file.\n",
    "\n",
    "**Steps to follow:**\n",
    "- Install the necessary libraries (pymysql and mysql.connector).\n",
    "- Establish a connection to the MySQL server using PyMySQL.\n",
    "- Create a new database (exercise3) if it does not already exist.\n",
    "- Define a table called people, which stores an individual's ID, first name, last name, and phone number.\n",
    "- Read data from a CSV file (exercise3.csv), where each row contains a first name, last name, and phone number.\n",
    "- Insert each entry into the people table, assigning an auto-incremental ID to each person."
   ]
  },
  {
   "cell_type": "markdown",
   "metadata": {},
   "source": [
    "**Answer:**"
   ]
  },
  {
   "cell_type": "code",
   "execution_count": null,
   "metadata": {},
   "outputs": [],
   "source": [
    "# Setup\n",
    "!pip install pymysql\n",
    "!pip install mysql.connector"
   ]
  },
  {
   "cell_type": "code",
   "execution_count": null,
   "metadata": {},
   "outputs": [],
   "source": [
    "import pymysql\n",
    "import mysql.connector\n",
    "import csv"
   ]
  },
  {
   "cell_type": "code",
   "execution_count": null,
   "metadata": {},
   "outputs": [],
   "source": [
    "# We make the connection to the server\n",
    "conexion = pymysql.connect(\n",
    "    host = \"localhost\",\n",
    "    user = \"root\",\n",
    "    passwd = \"dg45UJ3C\")\n",
    "\n",
    "# Once connected, we create the cursor and the database we will use.\n",
    "cursor = conexion.cursor()\n",
    "try:\n",
    "    cursor.execute(\"CREATE SCHEMA exercise3;\")\n",
    "    print(\"The database was successfully created.\")\n",
    "except:\n",
    "    print(\"An error occurred while creating the database. Please try again.\")"
   ]
  },
  {
   "cell_type": "code",
   "execution_count": null,
   "metadata": {},
   "outputs": [],
   "source": [
    "# Once the database is created, we need to create the different tables it will contain.\n",
    "# In our case we will only create one table, since we only want to store data referring to persons,\n",
    "# specifically, the first name, last name and all the telephone numbers that person has.\n",
    "try:\n",
    "    cursor.execute(\"CREATE TABLE `exercise3`.`people` (`ID` INT NOT NULL, `firstName` VARCHAR(45)\n",
    "                   \"NOT NULL, `lastName` VARCHAR(45) NOT NULL, `phone` VARCHAR(45) NOT NULL, \n",
    "                   \"PRIMARY KEY (`ID`), UNIQUE INDEX `ID_UNIQUE` (`ID` ASC) VISIBLE);\")\n",
    "    print(\"The table was created successfully.\")\n",
    "except:\n",
    "    print(\"An error occurred while creating the database. please try again.\")"
   ]
  },
  {
   "cell_type": "code",
   "execution_count": null,
   "metadata": {},
   "outputs": [],
   "source": [
    "# Once the database is created we are going to read our csv file and store it \n",
    "\n",
    "with open('exercise3.csv', encoding = 'UTF-8') as csvfile:\n",
    "    reader = csv.reader(csvfile, delimiter = ',')\n",
    "    next(reader)\n",
    "    ID=0\n",
    "    for line in reader:\n",
    "        ID+=1\n",
    "        firstName=line[0]\n",
    "        lastName=line[1]\n",
    "        phone=line[2]\n",
    "        sql=f\"INSERT INTO `exercise3`.`people` (`ID`, `firstName`, `lastName`, `phone`) \n",
    "        \"VALUES ('{ID}', '{firstName}', '{lastName}', '{phone}');\"\n",
    "        try:\n",
    "            cursor.execute(sql)\n",
    "            print(\"The data was inserted successfully.\")\n",
    "        except:\n",
    "            print(\"An error occurred while inserting the data. try again.\")"
   ]
  },
  {
   "cell_type": "markdown",
   "metadata": {},
   "source": [
    "It is worth mentioning that, as seen in the code, I have formatted the variable values containing the data for each person in each loop, thus creating the string that represents the MySQL command to insert the data for each individual."
   ]
  },
  {
   "cell_type": "markdown",
   "metadata": {},
   "source": [
    "\n",
    "### **Exercise 4. MongoDB**"
   ]
  },
  {
   "cell_type": "markdown",
   "metadata": {},
   "source": [
    "**a) Provide a concrete example of a database for which it would be more appropriate to use a non-relational model like MongoDB rather than a relational model like MySQL. Justify your answer.**"
   ]
  },
  {
   "cell_type": "markdown",
   "metadata": {},
   "source": [
    "The advantages of non-relational databases lie in the flexibility of their queries, while their disadvantages include a lower adaptability to changes. A non-relational database is more suitable when the schema of the collected data is unknown in advance, such as data obtained from a system of various types of sensors.\n",
    "\n",
    "An example of a non-relational database would be one used to store data from a large number of different sensors that measure significant variables (coordinates, humidity, pressure, temperature, wind speed, etc.) for climate studies. Since each sensor returns different types of data, it would be much easier to follow a non-relational database schema."
   ]
  },
  {
   "cell_type": "markdown",
   "metadata": {},
   "source": [
    "**b) Explain the advantages and disadvantages of MySQL and MongoDB in terms of data insertion and query execution. Justify your answer.**"
   ]
  },
  {
   "cell_type": "markdown",
   "metadata": {},
   "source": [
    "Regarding query execution, relational databases like MySQL make it significantly easier due to their structured and organized nature, allowing for greater data accessibility. However, once the database is created, expanding it with new fields can be difficult. MySQL has a simple query language that makes it easy to insert the necessary data into the database, and it can also be done through its interface.\n",
    "\n",
    "In MongoDB, since not all documents follow the same structure, writing queries to retrieve specific data can be more complex. However, data insertion is very simple when using MongoDB Compass, as it provides an intuitive graphical interface."
   ]
  },
  {
   "cell_type": "markdown",
   "metadata": {},
   "source": [
    "**c) Specify the filter to display all documents in a collection that either have the field “width” with a value greater than 100 or the field “height” with a value less than 50.**"
   ]
  },
  {
   "cell_type": "raw",
   "metadata": {
    "vscode": {
     "languageId": "raw"
    }
   },
   "source": [
    "{ $or: [{ width: { $gt: 100 } }, { height: { $lt: 50 } }] }"
   ]
  },
  {
   "cell_type": "markdown",
   "metadata": {},
   "source": [
    "**d) Specify the filter to display all documents in a collection that contain an array named “keywords” and that this array includes the keyword “mongodb”.**"
   ]
  },
  {
   "cell_type": "raw",
   "metadata": {
    "vscode": {
     "languageId": "raw"
    }
   },
   "source": [
    "{ keywords: { $all: [\"mongodb\"] } }"
   ]
  },
  {
   "cell_type": "markdown",
   "metadata": {},
   "source": [
    "### **Exercise 5. MongoEngine**"
   ]
  },
  {
   "cell_type": "markdown",
   "metadata": {},
   "source": [
    "In this exercise, you will create a simple MongoDB application using Python and MongoEngine to store personal data. The task involves reading data from a text file, processing it into a format that can be inserted into MongoDB, and then saving it as documents in a database.\n",
    "\n",
    "**Instructions:**\n",
    "\n",
    "**1. Setup:**\n",
    "\n",
    "Install the necessary libraries: mongoengine and pymongo.\n",
    "Establish a connection to a local MongoDB server running on localhost with the default port 27017.\n",
    "\n",
    "**2. Define Document Structure:**\n",
    "\n",
    "Create a Person class using mongoengine.Document to represent individual records. Each person will have the following fields:\n",
    "\n",
    "- first_name: Required field (max length 128 characters).\n",
    "- last_name: Required field (max length 128 characters).\n",
    "- phones: Optional field for phone numbers (max length 128 characters).\n",
    "- email: Optional field for email (max length 128 characters).\n",
    "\n",
    "**3. Reading and Processing Data:**\n",
    "\n",
    "Read the contents of the file exercise5.txt, which contains personal data in a specific format. Each line will represent a person with the following attributes: nombre, apellido, tfno (phone number), and email.\n",
    "\n",
    "Clean and split the data to create a dictionary for each person. Ensure that the data is properly formatted before inserting it into the database.\n",
    "\n",
    "**4. Insert Data into MongoDB:**\n",
    "\n",
    "For each line, create a new instance of the Person class and save it to the blog database in MongoDB.\n",
    "\n",
    "By the end of the exercise, you should have successfully inserted multiple records into MongoDB from a text file, with required and optional fields appropriately handled."
   ]
  },
  {
   "cell_type": "markdown",
   "metadata": {},
   "source": [
    "**Answer:**"
   ]
  },
  {
   "cell_type": "code",
   "execution_count": null,
   "metadata": {},
   "outputs": [],
   "source": [
    "# Setup\n",
    "!pip install mongoengine\n",
    "!pip install pymongo"
   ]
  },
  {
   "cell_type": "code",
   "execution_count": null,
   "metadata": {},
   "outputs": [],
   "source": [
    "from mongoengine import *\n",
    "import pymongo\n",
    "import csv"
   ]
  },
  {
   "cell_type": "code",
   "execution_count": null,
   "metadata": {},
   "outputs": [],
   "source": [
    "# Establishing the connection to the server\n",
    "connect('blog', host='localhost', port=27017)\n",
    "\n",
    "# Once connected, we create the necessary classes (documents). In this case, there will be only one: Person.\n",
    "# Some fields will be required, such as first name and last name, while others will be optional, such as phone numbers and email.\n",
    "class Person(Document):\n",
    "    first_name = StringField(max_length=128, required=True)\n",
    "    last_name = StringField(max_length=128, required=True)\n",
    "    phones = StringField(max_length=128)\n",
    "    email = StringField(max_length=128)"
   ]
  },
  {
   "cell_type": "code",
   "execution_count": null,
   "metadata": {},
   "outputs": [],
   "source": [
    "# Now we insert the content from the text file\n",
    "with open('exercise5.txt', encoding='UTF-8') as txtfile:\n",
    "    file_content = txtfile.read().split(\"\\n\")\n",
    "    \n",
    "    for line in file_content:\n",
    "        line = line.strip(\"{}\")  # Remove potential curly braces at the start and end\n",
    "        data_dict = dict(pair.split(\":\") for pair in line.split(\",\"))  # Convert to dictionary\n",
    "        \n",
    "        # Create a new Person instance\n",
    "        person_instance = Person(\n",
    "            first_name=data_dict.get('nombre', '').strip(),\n",
    "            last_name=data_dict.get('apellido', '').strip(),\n",
    "            phones=data_dict.get('tfno', '').strip() if 'tfno' in data_dict else None,\n",
    "            email=data_dict.get('email', '').strip() if 'email' in data_dict else None\n",
    "        )\n",
    "        \n",
    "        # Save the document in MongoDB\n",
    "        person_instance.save()"
   ]
  }
 ],
 "metadata": {
  "language_info": {
   "name": "python"
  }
 },
 "nbformat": 4,
 "nbformat_minor": 2
}
